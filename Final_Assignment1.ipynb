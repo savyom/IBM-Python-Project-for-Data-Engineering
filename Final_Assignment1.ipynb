{
    "cells": [
        {
            "metadata": {},
            "cell_type": "markdown",
            "source": "<p style=\"text-align:center\">\n    <a href=\"https://skills.network/?utm_medium=Exinfluencer&utm_source=Exinfluencer&utm_content=000026UJ&utm_term=10006555&utm_id=NA-SkillsNetwork-Channel-SkillsNetworkCoursesIBMDeveloperSkillsNetworkPY0221ENSkillsNetwork23455645-2022-01-01\" target=\"_blank\">\n    <img src=\"https://cf-courses-data.s3.us.cloud-object-storage.appdomain.cloud/assets/logos/SN_web_lightmode.png\" width=\"200\" alt=\"Skills Network Logo\"  />\n    </a>\n</p>\n"
        },
        {
            "metadata": {},
            "cell_type": "markdown",
            "source": "# Peer Review Assignment - Data Engineer - ETL\n"
        },
        {
            "metadata": {},
            "cell_type": "markdown",
            "source": "Estimated time needed: **20** minutes\n"
        },
        {
            "metadata": {},
            "cell_type": "markdown",
            "source": "## Objectives\n\nIn this final part you will:\n\n*   Run the ETL process\n*   Extract bank and market cap data from the JSON file `bank_market_cap.json`\n*   Transform the market cap currency using the exchange rate data\n*   Load the transformed data into a seperate CSV\n"
        },
        {
            "metadata": {},
            "cell_type": "markdown",
            "source": "For this lab, we are going to be using Python and several Python libraries. Some of these libraries might be installed in your lab environment or in SN Labs. Others may need to be installed by you. The cells below will install these libraries when executed.\n"
        },
        {
            "metadata": {},
            "cell_type": "code",
            "source": "!mamba install pandas==1.3.3 -y\n!mamba install requests==2.26.0 -y",
            "execution_count": 3,
            "outputs": [
                {
                    "output_type": "stream",
                    "text": "\n                  __    __    __    __\n                 /  \\  /  \\  /  \\  /  \\\n                /    \\/    \\/    \\/    \\\n\u2588\u2588\u2588\u2588\u2588\u2588\u2588\u2588\u2588\u2588\u2588\u2588\u2588\u2588\u2588/  /\u2588\u2588/  /\u2588\u2588/  /\u2588\u2588/  /\u2588\u2588\u2588\u2588\u2588\u2588\u2588\u2588\u2588\u2588\u2588\u2588\u2588\u2588\u2588\u2588\u2588\u2588\u2588\u2588\u2588\u2588\u2588\u2588\n              /  / \\   / \\   / \\   / \\  \\____\n             /  /   \\_/   \\_/   \\_/   \\    o \\__,\n            / _/                       \\_____/  `\n            |/\n        \u2588\u2588\u2588\u2557   \u2588\u2588\u2588\u2557 \u2588\u2588\u2588\u2588\u2588\u2557 \u2588\u2588\u2588\u2557   \u2588\u2588\u2588\u2557\u2588\u2588\u2588\u2588\u2588\u2588\u2557  \u2588\u2588\u2588\u2588\u2588\u2557\n        \u2588\u2588\u2588\u2588\u2557 \u2588\u2588\u2588\u2588\u2551\u2588\u2588\u2554\u2550\u2550\u2588\u2588\u2557\u2588\u2588\u2588\u2588\u2557 \u2588\u2588\u2588\u2588\u2551\u2588\u2588\u2554\u2550\u2550\u2588\u2588\u2557\u2588\u2588\u2554\u2550\u2550\u2588\u2588\u2557\n        \u2588\u2588\u2554\u2588\u2588\u2588\u2588\u2554\u2588\u2588\u2551\u2588\u2588\u2588\u2588\u2588\u2588\u2588\u2551\u2588\u2588\u2554\u2588\u2588\u2588\u2588\u2554\u2588\u2588\u2551\u2588\u2588\u2588\u2588\u2588\u2588\u2554\u255d\u2588\u2588\u2588\u2588\u2588\u2588\u2588\u2551\n        \u2588\u2588\u2551\u255a\u2588\u2588\u2554\u255d\u2588\u2588\u2551\u2588\u2588\u2554\u2550\u2550\u2588\u2588\u2551\u2588\u2588\u2551\u255a\u2588\u2588\u2554\u255d\u2588\u2588\u2551\u2588\u2588\u2554\u2550\u2550\u2588\u2588\u2557\u2588\u2588\u2554\u2550\u2550\u2588\u2588\u2551\n        \u2588\u2588\u2551 \u255a\u2550\u255d \u2588\u2588\u2551\u2588\u2588\u2551  \u2588\u2588\u2551\u2588\u2588\u2551 \u255a\u2550\u255d \u2588\u2588\u2551\u2588\u2588\u2588\u2588\u2588\u2588\u2554\u255d\u2588\u2588\u2551  \u2588\u2588\u2551\n        \u255a\u2550\u255d     \u255a\u2550\u255d\u255a\u2550\u255d  \u255a\u2550\u255d\u255a\u2550\u255d     \u255a\u2550\u255d\u255a\u2550\u2550\u2550\u2550\u2550\u255d \u255a\u2550\u255d  \u255a\u2550\u255d\n\n        mamba (0.27.0) supported by @QuantStack\n\n        GitHub:  https://github.com/mamba-org/mamba\n        Twitter: https://twitter.com/QuantStack\n\n\u2588\u2588\u2588\u2588\u2588\u2588\u2588\u2588\u2588\u2588\u2588\u2588\u2588\u2588\u2588\u2588\u2588\u2588\u2588\u2588\u2588\u2588\u2588\u2588\u2588\u2588\u2588\u2588\u2588\u2588\u2588\u2588\u2588\u2588\u2588\u2588\u2588\u2588\u2588\u2588\u2588\u2588\u2588\u2588\u2588\u2588\u2588\u2588\u2588\u2588\u2588\u2588\u2588\u2588\u2588\u2588\u2588\u2588\u2588\u2588\u2588\n\n\nLooking for: ['pandas==1.3.3']\n\n\u001b[?25l\u001b[2K\u001b[0G[+] 0.0s\nopt/ibm/custom-channels/meta-wscloud/linux-64 \u001b[33m\u2501\u2501\u2501\u2501\u2501\u2501\u2501\u2501\u2501\u2578\u001b[0m\u001b[90m\u2501\u2501\u2501\u2501\u2501\u2501\u2501\u2501\u2501\u2501\u001b[0m   0.0 B  0.0s\u001b[2K\u001b[1A\u001b[2K\u001b[0Gopt/ibm/custom-channels/meta-wscloud/linux-64       0.0s\nopt/ibm/custom-channels/meta-wscloud/noarch         13.3kB @ 170.8MB/s  0.0s\nopt/ibm/custom-channels/placebo-20220915-noarch/..  ??.?MB @  ??.?MB/s 0 failed  0.0s\nopt/ibm/custom-channels/placebo-20220915-noarch/..   3.6kB @ 102.5MB/s  0.0s\n[+] 0.1s\npkgs/main/linux-64 \u001b[90m\u2501\u2578\u001b[0m\u001b[33m\u2501\u2501\u2501\u2501\u2501\u2501\u2501\u2501\u2501\u2501\u2501\u2501\u2501\u2501\u2501\u2578\u001b[0m\u001b[90m\u2501\u2501\u2501\u2501\u2501\u2501\u2501\u001b[0m   0.0 B /  ??.?MB @  ??.?MB/s  0.1s\npkgs/main/noarch   \u001b[33m\u2501\u2501\u2501\u2501\u2501\u2501\u2501\u2501\u2578\u001b[0m\u001b[90m\u2501\u2501\u2501\u2501\u2501\u2501\u2501\u2501\u2501\u2501\u2501\u2501\u2501\u2501\u2501\u2501\u001b[0m   0.0 B /  ??.?MB @  ??.?MB/s  0.1s\u001b[2K\u001b[1A\u001b[2K\u001b[1A\u001b[2K\u001b[0Gpkgs/main/noarch                                              No change\n[+] 0.2s\npkgs/main/linux-64 \u001b[90m\u2501\u2501\u2578\u001b[0m\u001b[33m\u2501\u2501\u2501\u2501\u2501\u2501\u2501\u2501\u2501\u2501\u2501\u2501\u2501\u2501\u2501\u2578\u001b[0m\u001b[90m\u2501\u2501\u2501\u2501\u2501\u2501\u001b[0m   0.0 B /  ??.?MB @  ??.?MB/s  0.2s\u001b[2K\u001b[1A\u001b[2K\u001b[0G[+] 0.3s\npkgs/main/linux-64 \u001b[90m\u2501\u2501\u2578\u001b[0m\u001b[33m\u2501\u2501\u2501\u2501\u2501\u2501\u2501\u2501\u2501\u2501\u2501\u2501\u2501\u2501\u2501\u2578\u001b[0m\u001b[90m\u2501\u2501\u2501\u2501\u2501\u2501\u001b[0m   0.0 B /  ??.?MB @  ??.?MB/s  0.3s\u001b[2K\u001b[1A\u001b[2K\u001b[0G[+] 0.4s\npkgs/main/linux-64 \u001b[90m\u2501\u2501\u2578\u001b[0m\u001b[33m\u2501\u2501\u2501\u2501\u2501\u2501\u2501\u2501\u2501\u2501\u2501\u2501\u2501\u2501\u2501\u2578\u001b[0m\u001b[90m\u2501\u2501\u2501\u2501\u2501\u2501\u001b[0m   0.0 B /  ??.?MB @  ??.?MB/s  0.4s\u001b[2K\u001b[1A\u001b[2K\u001b[0G[+] 0.5s\npkgs/main/linux-64 \u001b[90m\u2501\u2501\u2578\u001b[0m\u001b[33m\u2501\u2501\u2501\u2501\u2501\u2501\u2501\u2501\u2501\u2501\u2501\u2501\u2501\u2501\u2501\u2578\u001b[0m\u001b[90m\u2501\u2501\u2501\u2501\u2501\u2501\u001b[0m   0.0 B /  ??.?MB @  ??.?MB/s  0.5s\u001b[2K\u001b[1A\u001b[2K\u001b[0G[+] 0.6s\npkgs/main/linux-64 \u001b[90m\u2501\u2501\u2578\u001b[0m\u001b[33m\u2501\u2501\u2501\u2501\u2501\u2501\u2501\u2501\u2501\u2501\u2501\u2501\u2501\u2501\u2501\u2578\u001b[0m\u001b[90m\u2501\u2501\u2501\u2501\u2501\u2501\u001b[0m   0.0 B /  ??.?MB @  ??.?MB/s  0.6s\u001b[2K\u001b[1A\u001b[2K\u001b[0G[+] 0.7s\npkgs/main/linux-64 \u001b[90m\u2501\u2501\u2578\u001b[0m\u001b[33m\u2501\u2501\u2501\u2501\u2501\u2501\u2501\u2501\u2501\u2501\u2501\u2501\u2501\u2501\u2501\u2578\u001b[0m\u001b[90m\u2501\u2501\u2501\u2501\u2501\u2501\u001b[0m   0.0 B /  ??.?MB @  ??.?MB/s  0.7s\u001b[2K\u001b[1A\u001b[2K\u001b[0G[+] 0.8s\npkgs/main/linux-64 \u001b[90m\u2501\u2501\u2578\u001b[0m\u001b[33m\u2501\u2501\u2501\u2501\u2501\u2501\u2501\u2501\u2501\u2501\u2501\u2501\u2501\u2501\u2501\u2578\u001b[0m\u001b[90m\u2501\u2501\u2501\u2501\u2501\u2501\u001b[0m   0.0 B /  ??.?MB @  ??.?MB/s  0.8s\u001b[2K\u001b[1A\u001b[2K\u001b[0G[+] 0.9s\npkgs/main/linux-64 \u001b[90m\u2501\u2501\u2578\u001b[0m\u001b[33m\u2501\u2501\u2501\u2501\u2501\u2501\u2501\u2501\u2501\u2501\u2501\u2501\u2501\u2501\u2501\u2578\u001b[0m\u001b[90m\u2501\u2501\u2501\u2501\u2501\u2501\u001b[0m   0.0 B /  ??.?MB @  ??.?MB/s  0.9s\u001b[2K\u001b[1A\u001b[2K\u001b[0G[+] 1.0s\npkgs/main/linux-64 \u001b[90m\u2501\u2501\u2578\u001b[0m\u001b[33m\u2501\u2501\u2501\u2501\u2501\u2501\u2501\u2501\u2501\u2501\u2501\u2501\u2501\u2501\u2501\u2578\u001b[0m\u001b[90m\u2501\u2501\u2501\u2501\u2501\u2501\u001b[0m   0.0 B /  ??.?MB @  ??.?MB/s  1.0s\u001b[2K\u001b[1A\u001b[2K\u001b[0G[+] 1.1s\npkgs/main/linux-64 \u001b[90m\u2501\u2501\u2578\u001b[0m\u001b[33m\u2501\u2501\u2501\u2501\u2501\u2501\u2501\u2501\u2501\u2501\u2501\u2501\u2501\u2501\u2501\u2578\u001b[0m\u001b[90m\u2501\u2501\u2501\u2501\u2501\u2501\u001b[0m   0.0 B /  ??.?MB @  ??.?MB/s  1.1s\u001b[2K\u001b[1A\u001b[2K\u001b[0G[+] 1.2s\npkgs/main/linux-64 \u001b[90m\u2501\u2501\u2578\u001b[0m\u001b[33m\u2501\u2501\u2501\u2501\u2501\u2501\u2501\u2501\u2501\u2501\u2501\u2501\u2501\u2501\u2501\u2578\u001b[0m\u001b[90m\u2501\u2501\u2501\u2501\u2501\u2501\u001b[0m   0.0 B /  ??.?MB @  ??.?MB/s  1.2s\u001b[2K\u001b[1A\u001b[2K\u001b[0G[+] 1.3s\npkgs/main/linux-64 \u001b[90m\u2501\u2501\u2578\u001b[0m\u001b[33m\u2501\u2501\u2501\u2501\u2501\u2501\u2501\u2501\u2501\u2501\u2501\u2501\u2501\u2501\u2501\u2578\u001b[0m\u001b[90m\u2501\u2501\u2501\u2501\u2501\u2501\u001b[0m   0.0 B /  ??.?MB @  ??.?MB/s  1.3s\u001b[2K\u001b[1A\u001b[2K\u001b[0G[+] 1.4s\npkgs/main/linux-64 \u001b[90m\u2501\u2501\u2578\u001b[0m\u001b[33m\u2501\u2501\u2501\u2501\u2501\u2501\u2501\u2501\u2501\u2501\u2501\u2501\u2501\u2501\u2501\u2578\u001b[0m\u001b[90m\u2501\u2501\u2501\u2501\u2501\u2501\u001b[0m   0.0 B /  ??.?MB @  ??.?MB/s  1.4s\u001b[2K\u001b[1A\u001b[2K\u001b[0G[+] 1.5s\npkgs/main/linux-64 \u001b[90m\u2501\u2501\u2578\u001b[0m\u001b[33m\u2501\u2501\u2501\u2501\u2501\u2501\u2501\u2501\u2501\u2501\u2501\u2501\u2501\u2501\u2501\u2578\u001b[0m\u001b[90m\u2501\u2501\u2501\u2501\u2501\u2501\u001b[0m   0.0 B /  ??.?MB @  ??.?MB/s  1.5s\u001b[2K\u001b[1A\u001b[2K\u001b[0G[+] 1.6s\npkgs/main/linux-64 \u001b[90m\u2501\u2501\u2578\u001b[0m\u001b[33m\u2501\u2501\u2501\u2501\u2501\u2501\u2501\u2501\u2501\u2501\u2501\u2501\u2501\u2501\u2501\u2578\u001b[0m\u001b[90m\u2501\u2501\u2501\u2501\u2501\u2501\u001b[0m   0.0 B /  ??.?MB @  ??.?MB/s  1.6s\u001b[2K\u001b[1A\u001b[2K\u001b[0G[+] 1.7s\npkgs/main/linux-64 \u001b[90m\u2501\u2501\u2578\u001b[0m\u001b[33m\u2501\u2501\u2501\u2501\u2501\u2501\u2501\u2501\u2501\u2501\u2501\u2501\u2501\u2501\u2501\u2578\u001b[0m\u001b[90m\u2501\u2501\u2501\u2501\u2501\u2501\u001b[0m   0.0 B /  ??.?MB @  ??.?MB/s  1.7s\u001b[2K\u001b[1A\u001b[2K\u001b[0G[+] 1.8s\npkgs/main/linux-64 \u001b[90m\u2501\u2501\u2578\u001b[0m\u001b[33m\u2501\u2501\u2501\u2501\u2501\u2501\u2501\u2501\u2501\u2501\u2501\u2501\u2501\u2501\u2501\u2578\u001b[0m\u001b[90m\u2501\u2501\u2501\u2501\u2501\u2501\u001b[0m   0.0 B /  ??.?MB @  ??.?MB/s  1.8s\u001b[2K\u001b[1A\u001b[2K\u001b[0G[+] 1.9s\npkgs/main/linux-64 \u001b[90m\u2501\u2501\u2578\u001b[0m\u001b[33m\u2501\u2501\u2501\u2501\u2501\u2501\u2501\u2501\u2501\u2501\u2501\u2501\u2501\u2501\u2501\u2578\u001b[0m\u001b[90m\u2501\u2501\u2501\u2501\u2501\u2501\u001b[0m   0.0 B /  ??.?MB @  ??.?MB/s  1.9s\u001b[2K\u001b[1A\u001b[2K\u001b[0G[+] 2.0s\npkgs/main/linux-64 \u001b[90m\u2501\u2501\u2578\u001b[0m\u001b[33m\u2501\u2501\u2501\u2501\u2501\u2501\u2501\u2501\u2501\u2501\u2501\u2501\u2501\u2501\u2501\u2578\u001b[0m\u001b[90m\u2501\u2501\u2501\u2501\u2501\u2501\u001b[0m   0.0 B /  ??.?MB @  ??.?MB/s  2.0s\u001b[2K\u001b[1A\u001b[2K\u001b[0G[+] 2.1s\npkgs/main/linux-64 \u001b[90m\u2501\u2501\u2578\u001b[0m\u001b[33m\u2501\u2501\u2501\u2501\u2501\u2501\u2501\u2501\u2501\u2501\u2501\u2501\u2501\u2501\u2501\u2578\u001b[0m\u001b[90m\u2501\u2501\u2501\u2501\u2501\u2501\u001b[0m   0.0 B /  ??.?MB @  ??.?MB/s  2.1s\u001b[2K\u001b[1A\u001b[2K\u001b[0G[+] 2.2s\npkgs/main/linux-64 \u001b[90m\u2501\u2501\u2578\u001b[0m\u001b[33m\u2501\u2501\u2501\u2501\u2501\u2501\u2501\u2501\u2501\u2501\u2501\u2501\u2501\u2501\u2501\u2578\u001b[0m\u001b[90m\u2501\u2501\u2501\u2501\u2501\u2501\u001b[0m   0.0 B /  ??.?MB @  ??.?MB/s  2.2s\u001b[2K\u001b[1A\u001b[2K\u001b[0G[+] 2.3s\npkgs/main/linux-64 \u001b[90m\u2501\u2501\u2578\u001b[0m\u001b[33m\u2501\u2501\u2501\u2501\u2501\u2501\u2501\u2501\u2501\u2501\u2501\u2501\u2501\u2501\u2501\u2578\u001b[0m\u001b[90m\u2501\u2501\u2501\u2501\u2501\u2501\u001b[0m   0.0 B /  ??.?MB @  ??.?MB/s  2.3s\u001b[2K\u001b[1A\u001b[2K\u001b[0G[+] 2.4s\npkgs/main/linux-64 \u001b[90m\u2501\u2501\u2578\u001b[0m\u001b[33m\u2501\u2501\u2501\u2501\u2501\u2501\u2501\u2501\u2501\u2501\u2501\u2501\u2501\u2501\u2501\u2578\u001b[0m\u001b[90m\u2501\u2501\u2501\u2501\u2501\u2501\u001b[0m   0.0 B /  ??.?MB @  ??.?MB/s  2.4s\u001b[2K\u001b[1A\u001b[2K\u001b[0G[+] 2.5s\npkgs/main/linux-64 \u001b[90m\u2501\u2501\u2578\u001b[0m\u001b[33m\u2501\u2501\u2501\u2501\u2501\u2501\u2501\u2501\u2501\u2501\u2501\u2501\u2501\u2501\u2501\u2578\u001b[0m\u001b[90m\u2501\u2501\u2501\u2501\u2501\u2501\u001b[0m   0.0 B /  ??.?MB @  ??.?MB/s  2.5s\u001b[2K\u001b[1A\u001b[2K\u001b[0G[+] 2.6s\npkgs/main/linux-64 \u001b[90m\u2501\u2501\u2578\u001b[0m\u001b[33m\u2501\u2501\u2501\u2501\u2501\u2501\u2501\u2501\u2501\u2501\u2501\u2501\u2501\u2501\u2501\u2578\u001b[0m\u001b[90m\u2501\u2501\u2501\u2501\u2501\u2501\u001b[0m   0.0 B /  ??.?MB @  ??.?MB/s  2.6s\u001b[2K\u001b[1A\u001b[2K\u001b[0G[+] 2.7s\npkgs/main/linux-64 \u001b[90m\u2501\u2501\u2578\u001b[0m\u001b[33m\u2501\u2501\u2501\u2501\u2501\u2501\u2501\u2501\u2501\u2501\u2501\u2501\u2501\u2501\u2501\u2578\u001b[0m\u001b[90m\u2501\u2501\u2501\u2501\u2501\u2501\u001b[0m   0.0 B /  ??.?MB @  ??.?MB/s  2.7s\u001b[2K\u001b[1A\u001b[2K\u001b[0G[+] 2.8s\npkgs/main/linux-64 \u001b[90m\u2501\u2501\u2578\u001b[0m\u001b[33m\u2501\u2501\u2501\u2501\u2501\u2501\u2501\u2501\u2501\u2501\u2501\u2501\u2501\u2501\u2501\u2578\u001b[0m\u001b[90m\u2501\u2501\u2501\u2501\u2501\u2501\u001b[0m   0.0 B /  ??.?MB @  ??.?MB/s  2.8s\u001b[2K\u001b[1A\u001b[2K\u001b[0G[+] 2.9s\npkgs/main/linux-64 \u001b[90m\u2501\u2501\u2578\u001b[0m\u001b[33m\u2501\u2501\u2501\u2501\u2501\u2501\u2501\u2501\u2501\u2501\u2501\u2501\u2501\u2501\u2501\u2578\u001b[0m\u001b[90m\u2501\u2501\u2501\u2501\u2501\u2501\u001b[0m   0.0 B /  ??.?MB @  ??.?MB/s  2.9s\u001b[2K\u001b[1A\u001b[2K\u001b[0G[+] 3.0s\npkgs/main/linux-64 \u001b[90m\u2501\u2501\u2578\u001b[0m\u001b[33m\u2501\u2501\u2501\u2501\u2501\u2501\u2501\u2501\u2501\u2501\u2501\u2501\u2501\u2501\u2501\u2578\u001b[0m\u001b[90m\u2501\u2501\u2501\u2501\u2501\u2501\u001b[0m   0.0 B /  ??.?MB @  ??.?MB/s  3.0s\u001b[2K\u001b[1A\u001b[2K\u001b[0G[+] 3.1s\npkgs/main/linux-64 \u001b[90m\u2501\u2501\u2578\u001b[0m\u001b[33m\u2501\u2501\u2501\u2501\u2501\u2501\u2501\u2501\u2501\u2501\u2501\u2501\u2501\u2501\u2501\u2578\u001b[0m\u001b[90m\u2501\u2501\u2501\u2501\u2501\u2501\u001b[0m   0.0 B /  ??.?MB @  ??.?MB/s  3.1s\u001b[2K\u001b[1A\u001b[2K\u001b[0G[+] 3.2s\npkgs/main/linux-64 \u001b[90m\u2501\u2501\u2578\u001b[0m\u001b[33m\u2501\u2501\u2501\u2501\u2501\u2501\u2501\u2501\u2501\u2501\u2501\u2501\u2501\u2501\u2501\u2578\u001b[0m\u001b[90m\u2501\u2501\u2501\u2501\u2501\u2501\u001b[0m   0.0 B /  ??.?MB @  ??.?MB/s  3.2s\u001b[2K\u001b[1A\u001b[2K\u001b[0G[+] 3.3s\npkgs/main/linux-64 \u001b[90m\u2501\u2501\u2578\u001b[0m\u001b[33m\u2501\u2501\u2501\u2501\u2501\u2501\u2501\u2501\u2501\u2501\u2501\u2501\u2501\u2501\u2501\u2578\u001b[0m\u001b[90m\u2501\u2501\u2501\u2501\u2501\u2501\u001b[0m   0.0 B /  ??.?MB @  ??.?MB/s  3.3s\u001b[2K\u001b[1A\u001b[2K\u001b[0G[+] 3.4s\npkgs/main/linux-64 \u001b[90m\u2501\u2501\u2578\u001b[0m\u001b[33m\u2501\u2501\u2501\u2501\u2501\u2501\u2501\u2501\u2501\u2501\u2501\u2501\u2501\u2501\u2501\u2578\u001b[0m\u001b[90m\u2501\u2501\u2501\u2501\u2501\u2501\u001b[0m   0.0 B /  ??.?MB @  ??.?MB/s  3.4s\u001b[2K\u001b[1A\u001b[2K\u001b[0G[+] 3.5s\npkgs/main/linux-64 \u001b[90m\u2501\u2501\u2578\u001b[0m\u001b[33m\u2501\u2501\u2501\u2501\u2501\u2501\u2501\u2501\u2501\u2501\u2501\u2501\u2501\u2501\u2501\u2578\u001b[0m\u001b[90m\u2501\u2501\u2501\u2501\u2501\u2501\u001b[0m   0.0 B /  ??.?MB @  ??.?MB/s  3.5s\u001b[2K\u001b[1A\u001b[2K\u001b[0G[+] 3.6s\npkgs/main/linux-64 \u001b[90m\u2501\u2501\u2578\u001b[0m\u001b[33m\u2501\u2501\u2501\u2501\u2501\u2501\u2501\u2501\u2501\u2501\u2501\u2501\u2501\u2501\u2501\u2578\u001b[0m\u001b[90m\u2501\u2501\u2501\u2501\u2501\u2501\u001b[0m   0.0 B /  ??.?MB @  ??.?MB/s  3.6s\u001b[2K\u001b[1A\u001b[2K\u001b[0G[+] 3.7s\npkgs/main/linux-64 \u001b[90m\u2501\u2501\u2578\u001b[0m\u001b[33m\u2501\u2501\u2501\u2501\u2501\u2501\u2501\u2501\u2501\u2501\u2501\u2501\u2501\u2501\u2501\u2578\u001b[0m\u001b[90m\u2501\u2501\u2501\u2501\u2501\u2501\u001b[0m   0.0 B /  ??.?MB @  ??.?MB/s  3.7s\u001b[2K\u001b[1A\u001b[2K\u001b[0G[+] 3.8s\npkgs/main/linux-64 \u001b[90m\u2501\u2501\u2578\u001b[0m\u001b[33m\u2501\u2501\u2501\u2501\u2501\u2501\u2501\u2501\u2501\u2501\u2501\u2501\u2501\u2501\u2501\u2578\u001b[0m\u001b[90m\u2501\u2501\u2501\u2501\u2501\u2501\u001b[0m   0.0 B /  ??.?MB @  ??.?MB/s  3.8s\u001b[2K\u001b[1A\u001b[2K\u001b[0G[+] 3.9s\npkgs/main/linux-64 \u001b[90m\u2501\u2501\u2578\u001b[0m\u001b[33m\u2501\u2501\u2501\u2501\u2501\u2501\u2501\u2501\u2501\u2501\u2501\u2501\u2501\u2501\u2501\u2578\u001b[0m\u001b[90m\u2501\u2501\u2501\u2501\u2501\u2501\u001b[0m   0.0 B /  ??.?MB @  ??.?MB/s  3.9s\u001b[2K\u001b[1A\u001b[2K\u001b[0G[+] 4.0s\npkgs/main/linux-64 \u001b[90m\u2501\u2501\u2578\u001b[0m\u001b[33m\u2501\u2501\u2501\u2501\u2501\u2501\u2501\u2501\u2501\u2501\u2501\u2501\u2501\u2501\u2501\u2578\u001b[0m\u001b[90m\u2501\u2501\u2501\u2501\u2501\u2501\u001b[0m   0.0 B /  ??.?MB @  ??.?MB/s  4.0s\u001b[2K\u001b[1A\u001b[2K\u001b[0G[+] 4.1s\npkgs/main/linux-64 \u001b[90m\u2501\u2501\u2578\u001b[0m\u001b[33m\u2501\u2501\u2501\u2501\u2501\u2501\u2501\u2501\u2501\u2501\u2501\u2501\u2501\u2501\u2501\u2578\u001b[0m\u001b[90m\u2501\u2501\u2501\u2501\u2501\u2501\u001b[0m   0.0 B /  ??.?MB @  ??.?MB/s  4.1s\u001b[2K\u001b[1A\u001b[2K\u001b[0G[+] 4.2s\npkgs/main/linux-64 \u001b[90m\u2501\u2501\u2578\u001b[0m\u001b[33m\u2501\u2501\u2501\u2501\u2501\u2501\u2501\u2501\u2501\u2501\u2501\u2501\u2501\u2501\u2501\u2578\u001b[0m\u001b[90m\u2501\u2501\u2501\u2501\u2501\u2501\u001b[0m   0.0 B /  ??.?MB @  ??.?MB/s  4.2s\u001b[2K\u001b[1A\u001b[2K\u001b[0G[+] 4.3s\npkgs/main/linux-64 \u001b[90m\u2501\u2501\u2578\u001b[0m\u001b[33m\u2501\u2501\u2501\u2501\u2501\u2501\u2501\u2501\u2501\u2501\u2501\u2501\u2501\u2501\u2501\u2578\u001b[0m\u001b[90m\u2501\u2501\u2501\u2501\u2501\u2501\u001b[0m   0.0 B /  ??.?MB @  ??.?MB/s  4.3s\u001b[2K\u001b[1A\u001b[2K\u001b[0G[+] 4.4s\npkgs/main/linux-64 \u001b[90m\u2501\u2501\u2578\u001b[0m\u001b[33m\u2501\u2501\u2501\u2501\u2501\u2501\u2501\u2501\u2501\u2501\u2501\u2501\u2501\u2501\u2501\u2578\u001b[0m\u001b[90m\u2501\u2501\u2501\u2501\u2501\u2501\u001b[0m   0.0 B /  ??.?MB @  ??.?MB/s  4.4s\u001b[2K\u001b[1A\u001b[2K\u001b[0G[+] 4.5s\npkgs/main/linux-64 \u001b[90m\u2501\u2501\u2578\u001b[0m\u001b[33m\u2501\u2501\u2501\u2501\u2501\u2501\u2501\u2501\u2501\u2501\u2501\u2501\u2501\u2501\u2501\u2578\u001b[0m\u001b[90m\u2501\u2501\u2501\u2501\u2501\u2501\u001b[0m   0.0 B /  ??.?MB @  ??.?MB/s  4.5s\u001b[2K\u001b[1A\u001b[2K\u001b[0G[+] 4.6s\npkgs/main/linux-64 \u001b[90m\u2501\u2501\u2578\u001b[0m\u001b[33m\u2501\u2501\u2501\u2501\u2501\u2501\u2501\u2501\u2501\u2501\u2501\u2501\u2501\u2501\u2501\u2578\u001b[0m\u001b[90m\u2501\u2501\u2501\u2501\u2501\u2501\u001b[0m   0.0 B /  ??.?MB @  ??.?MB/s  4.6s\u001b[2K\u001b[1A\u001b[2K\u001b[0G[+] 4.7s\npkgs/main/linux-64 \u001b[90m\u2501\u2501\u2578\u001b[0m\u001b[33m\u2501\u2501\u2501\u2501\u2501\u2501\u2501\u2501\u2501\u2501\u2501\u2501\u2501\u2501\u2501\u2578\u001b[0m\u001b[90m\u2501\u2501\u2501\u2501\u2501\u2501\u001b[0m   0.0 B /  ??.?MB @  ??.?MB/s  4.7s\u001b[2K\u001b[1A\u001b[2K\u001b[0G[+] 4.8s\npkgs/main/linux-64 \u001b[90m\u2501\u2501\u2578\u001b[0m\u001b[33m\u2501\u2501\u2501\u2501\u2501\u2501\u2501\u2501\u2501\u2501\u2501\u2501\u2501\u2501\u2501\u2578\u001b[0m\u001b[90m\u2501\u2501\u2501\u2501\u2501\u2501\u001b[0m   0.0 B /  ??.?MB @  ??.?MB/s  4.8s\u001b[2K\u001b[1A\u001b[2K\u001b[0G[+] 4.9s\npkgs/main/linux-64 \u001b[90m\u2501\u2501\u2578\u001b[0m\u001b[33m\u2501\u2501\u2501\u2501\u2501\u2501\u2501\u2501\u2501\u2501\u2501\u2501\u2501\u2501\u2501\u2578\u001b[0m\u001b[90m\u2501\u2501\u2501\u2501\u2501\u2501\u001b[0m   0.0 B /  ??.?MB @  ??.?MB/s  4.9s\u001b[2K\u001b[1A\u001b[2K\u001b[0G[+] 5.0s\npkgs/main/linux-64 \u001b[90m\u2501\u2501\u2578\u001b[0m\u001b[33m\u2501\u2501\u2501\u2501\u2501\u2501\u2501\u2501\u2501\u2501\u2501\u2501\u2501\u2501\u2501\u2578\u001b[0m\u001b[90m\u2501\u2501\u2501\u2501\u2501\u2501\u001b[0m   0.0 B /  ??.?MB @  ??.?MB/s  5.0s\u001b[2K\u001b[1A\u001b[2K\u001b[0Gpkgs/main/linux-64                                            No change\n",
                    "name": "stdout"
                },
                {
                    "output_type": "stream",
                    "text": "\u001b[?25h\nPinned packages:\n  - python 3.9.*\n  - python 3.9.*\n  - widgetsnbextension 3.5.1.*\n\n\nTransaction\n\n  Prefix: /opt/conda/envs/Python-3.9\n\n  All requested packages already installed\n\n\u001b[?25l\u001b[2K\u001b[0G\u001b[?25h\n                  __    __    __    __\n                 /  \\  /  \\  /  \\  /  \\\n                /    \\/    \\/    \\/    \\\n\u2588\u2588\u2588\u2588\u2588\u2588\u2588\u2588\u2588\u2588\u2588\u2588\u2588\u2588\u2588/  /\u2588\u2588/  /\u2588\u2588/  /\u2588\u2588/  /\u2588\u2588\u2588\u2588\u2588\u2588\u2588\u2588\u2588\u2588\u2588\u2588\u2588\u2588\u2588\u2588\u2588\u2588\u2588\u2588\u2588\u2588\u2588\u2588\n              /  / \\   / \\   / \\   / \\  \\____\n             /  /   \\_/   \\_/   \\_/   \\    o \\__,\n            / _/                       \\_____/  `\n            |/\n        \u2588\u2588\u2588\u2557   \u2588\u2588\u2588\u2557 \u2588\u2588\u2588\u2588\u2588\u2557 \u2588\u2588\u2588\u2557   \u2588\u2588\u2588\u2557\u2588\u2588\u2588\u2588\u2588\u2588\u2557  \u2588\u2588\u2588\u2588\u2588\u2557\n        \u2588\u2588\u2588\u2588\u2557 \u2588\u2588\u2588\u2588\u2551\u2588\u2588\u2554\u2550\u2550\u2588\u2588\u2557\u2588\u2588\u2588\u2588\u2557 \u2588\u2588\u2588\u2588\u2551\u2588\u2588\u2554\u2550\u2550\u2588\u2588\u2557\u2588\u2588\u2554\u2550\u2550\u2588\u2588\u2557\n        \u2588\u2588\u2554\u2588\u2588\u2588\u2588\u2554\u2588\u2588\u2551\u2588\u2588\u2588\u2588\u2588\u2588\u2588\u2551\u2588\u2588\u2554\u2588\u2588\u2588\u2588\u2554\u2588\u2588\u2551\u2588\u2588\u2588\u2588\u2588\u2588\u2554\u255d\u2588\u2588\u2588\u2588\u2588\u2588\u2588\u2551\n        \u2588\u2588\u2551\u255a\u2588\u2588\u2554\u255d\u2588\u2588\u2551\u2588\u2588\u2554\u2550\u2550\u2588\u2588\u2551\u2588\u2588\u2551\u255a\u2588\u2588\u2554\u255d\u2588\u2588\u2551\u2588\u2588\u2554\u2550\u2550\u2588\u2588\u2557\u2588\u2588\u2554\u2550\u2550\u2588\u2588\u2551\n        \u2588\u2588\u2551 \u255a\u2550\u255d \u2588\u2588\u2551\u2588\u2588\u2551  \u2588\u2588\u2551\u2588\u2588\u2551 \u255a\u2550\u255d \u2588\u2588\u2551\u2588\u2588\u2588\u2588\u2588\u2588\u2554\u255d\u2588\u2588\u2551  \u2588\u2588\u2551\n        \u255a\u2550\u255d     \u255a\u2550\u255d\u255a\u2550\u255d  \u255a\u2550\u255d\u255a\u2550\u255d     \u255a\u2550\u255d\u255a\u2550\u2550\u2550\u2550\u2550\u255d \u255a\u2550\u255d  \u255a\u2550\u255d\n\n        mamba (0.27.0) supported by @QuantStack\n\n        GitHub:  https://github.com/mamba-org/mamba\n        Twitter: https://twitter.com/QuantStack\n\n\u2588\u2588\u2588\u2588\u2588\u2588\u2588\u2588\u2588\u2588\u2588\u2588\u2588\u2588\u2588\u2588\u2588\u2588\u2588\u2588\u2588\u2588\u2588\u2588\u2588\u2588\u2588\u2588\u2588\u2588\u2588\u2588\u2588\u2588\u2588\u2588\u2588\u2588\u2588\u2588\u2588\u2588\u2588\u2588\u2588\u2588\u2588\u2588\u2588\u2588\u2588\u2588\u2588\u2588\u2588\u2588\u2588\u2588\u2588\u2588\u2588\n\n\nLooking for: ['requests==2.26.0']\n\npkgs/main/linux-64                                          Using cache\npkgs/main/noarch                                            Using cache\n\u001b[?25l\u001b[2K\u001b[0G[+] 0.0s\nopt/ibm/custom-channels/meta-wscloud/linux-64 \u001b[90m\u2501\u2501\u2578\u001b[0m\u001b[33m\u2501\u2501\u2501\u2501\u2501\u2501\u2501\u2501\u2501\u2501\u2501\u2501\u2501\u2501\u2501\u2578\u001b[0m\u001b[90m\u2501\u001b[0m   0.0 B  0.0s\u001b[2K\u001b[1A\u001b[2K\u001b[0Gopt/ibm/custom-channels/meta-wscloud/linux-64       0.0s\nopt/ibm/custom-channels/meta-wscloud/noarch         13.3kB @ 193.1MB/s  0.0s\nopt/ibm/custom-channels/placebo-20220915-noarch/..  ??.?MB @  ??.?MB/s 0 failed  0.0s\nopt/ibm/custom-channels/placebo-20220915-noarch/..   3.6kB @  78.0MB/s  0.0s\n\u001b[?25h\nPinned packages:\n  - python 3.9.*\n  - python 3.9.*\n  - widgetsnbextension 3.5.1.*\n\n\nTransaction\n\n  Prefix: /opt/conda/envs/Python-3.9\n\n  All requested packages already installed\n\n\u001b[?25l\u001b[2K\u001b[0G\u001b[?25h",
                    "name": "stdout"
                }
            ]
        },
        {
            "metadata": {},
            "cell_type": "markdown",
            "source": "## Imports\n\nImport any additional libraries you may need here.\n"
        },
        {
            "metadata": {},
            "cell_type": "code",
            "source": "import glob\nimport pandas as pd\nfrom datetime import datetime",
            "execution_count": 4,
            "outputs": []
        },
        {
            "metadata": {},
            "cell_type": "markdown",
            "source": "As the exchange rate fluctuates, we will download the same dataset to make marking simpler. This will be in the same format as the dataset you used in the last section\n"
        },
        {
            "metadata": {},
            "cell_type": "code",
            "source": "!wget https://cf-courses-data.s3.us.cloud-object-storage.appdomain.cloud/IBMDeveloperSkillsNetwork-PY0221EN-SkillsNetwork/labs/module%206/Lab%20-%20Extract%20Transform%20Load/data/bank_market_cap_1.json\n!wget https://cf-courses-data.s3.us.cloud-object-storage.appdomain.cloud/IBMDeveloperSkillsNetwork-PY0221EN-SkillsNetwork/labs/module%206/Lab%20-%20Extract%20Transform%20Load/data/bank_market_cap_2.json\n!wget https://cf-courses-data.s3.us.cloud-object-storage.appdomain.cloud/IBMDeveloperSkillsNetwork-PY0221EN-SkillsNetwork/labs/module%206/Final%20Assignment/exchange_rates.csv",
            "execution_count": 5,
            "outputs": [
                {
                    "output_type": "stream",
                    "text": "--2023-02-22 00:56:50--  https://cf-courses-data.s3.us.cloud-object-storage.appdomain.cloud/IBMDeveloperSkillsNetwork-PY0221EN-SkillsNetwork/labs/module%206/Lab%20-%20Extract%20Transform%20Load/data/bank_market_cap_1.json\nResolving cf-courses-data.s3.us.cloud-object-storage.appdomain.cloud (cf-courses-data.s3.us.cloud-object-storage.appdomain.cloud)... 198.23.119.245\nConnecting to cf-courses-data.s3.us.cloud-object-storage.appdomain.cloud (cf-courses-data.s3.us.cloud-object-storage.appdomain.cloud)|198.23.119.245|:443... connected.\nHTTP request sent, awaiting response... 200 OK\nLength: 2815 (2.7K) [application/json]\nSaving to: \u2018bank_market_cap_1.json.2\u2019\n\nbank_market_cap_1.j 100%[===================>]   2.75K  --.-KB/s    in 0s      \n\n2023-02-22 00:56:51 (68.0 MB/s) - \u2018bank_market_cap_1.json.2\u2019 saved [2815/2815]\n\n--2023-02-22 00:56:52--  https://cf-courses-data.s3.us.cloud-object-storage.appdomain.cloud/IBMDeveloperSkillsNetwork-PY0221EN-SkillsNetwork/labs/module%206/Lab%20-%20Extract%20Transform%20Load/data/bank_market_cap_2.json\nResolving cf-courses-data.s3.us.cloud-object-storage.appdomain.cloud (cf-courses-data.s3.us.cloud-object-storage.appdomain.cloud)... 198.23.119.245\nConnecting to cf-courses-data.s3.us.cloud-object-storage.appdomain.cloud (cf-courses-data.s3.us.cloud-object-storage.appdomain.cloud)|198.23.119.245|:443... connected.\nHTTP request sent, awaiting response... 200 OK\nLength: 1429 (1.4K) [application/json]\nSaving to: \u2018bank_market_cap_2.json.2\u2019\n\nbank_market_cap_2.j 100%[===================>]   1.40K  --.-KB/s    in 0s      \n\n2023-02-22 00:56:52 (56.6 MB/s) - \u2018bank_market_cap_2.json.2\u2019 saved [1429/1429]\n\n--2023-02-22 00:56:53--  https://cf-courses-data.s3.us.cloud-object-storage.appdomain.cloud/IBMDeveloperSkillsNetwork-PY0221EN-SkillsNetwork/labs/module%206/Final%20Assignment/exchange_rates.csv\nResolving cf-courses-data.s3.us.cloud-object-storage.appdomain.cloud (cf-courses-data.s3.us.cloud-object-storage.appdomain.cloud)... 198.23.119.245\nConnecting to cf-courses-data.s3.us.cloud-object-storage.appdomain.cloud (cf-courses-data.s3.us.cloud-object-storage.appdomain.cloud)|198.23.119.245|:443... connected.\nHTTP request sent, awaiting response... 200 OK\nLength: 590 [text/csv]\nSaving to: \u2018exchange_rates.csv.2\u2019\n\nexchange_rates.csv. 100%[===================>]     590  --.-KB/s    in 0s      \n\n2023-02-22 00:56:53 (22.8 MB/s) - \u2018exchange_rates.csv.2\u2019 saved [590/590]\n\n",
                    "name": "stdout"
                }
            ]
        },
        {
            "metadata": {},
            "cell_type": "markdown",
            "source": "## Extract\n"
        },
        {
            "metadata": {},
            "cell_type": "markdown",
            "source": "### JSON Extract Function\n\nThis function will extract JSON files.\n"
        },
        {
            "metadata": {},
            "cell_type": "code",
            "source": "def extract_from_json(file_to_process):\n    dataframe = pd.read_json(file_to_process)\n    return dataframe",
            "execution_count": 6,
            "outputs": []
        },
        {
            "metadata": {},
            "cell_type": "markdown",
            "source": "## Extract Function\n\nDefine the extract function that finds JSON file `bank_market_cap_1.json` and calls the function created above to extract data from them. Store the data in a `pandas` dataframe. Use the following list for the columns.\n"
        },
        {
            "metadata": {},
            "cell_type": "code",
            "source": "columns=['Name','Market Cap (US$ Billion)']",
            "execution_count": 7,
            "outputs": []
        },
        {
            "metadata": {},
            "cell_type": "code",
            "source": "def extract():\n    extracted_data = pd.DataFrame(extract_from_json('bank_market_cap_1.json'), columns=['Name','Market Cap (US$ Billion)'])\n    return extracted_data\n\n#extracted_data.head()",
            "execution_count": 99,
            "outputs": [
                {
                    "output_type": "execute_result",
                    "execution_count": 99,
                    "data": {
                        "text/plain": "                                      Name  Market Cap (US$ Billion)\n0                           JPMorgan Chase                   390.934\n1  Industrial and Commercial Bank of China                   345.214\n2                          Bank of America                   325.331\n3                              Wells Fargo                   308.013\n4                  China Construction Bank                   257.399",
                        "text/html": "<div>\n<style scoped>\n    .dataframe tbody tr th:only-of-type {\n        vertical-align: middle;\n    }\n\n    .dataframe tbody tr th {\n        vertical-align: top;\n    }\n\n    .dataframe thead th {\n        text-align: right;\n    }\n</style>\n<table border=\"1\" class=\"dataframe\">\n  <thead>\n    <tr style=\"text-align: right;\">\n      <th></th>\n      <th>Name</th>\n      <th>Market Cap (US$ Billion)</th>\n    </tr>\n  </thead>\n  <tbody>\n    <tr>\n      <th>0</th>\n      <td>JPMorgan Chase</td>\n      <td>390.934</td>\n    </tr>\n    <tr>\n      <th>1</th>\n      <td>Industrial and Commercial Bank of China</td>\n      <td>345.214</td>\n    </tr>\n    <tr>\n      <th>2</th>\n      <td>Bank of America</td>\n      <td>325.331</td>\n    </tr>\n    <tr>\n      <th>3</th>\n      <td>Wells Fargo</td>\n      <td>308.013</td>\n    </tr>\n    <tr>\n      <th>4</th>\n      <td>China Construction Bank</td>\n      <td>257.399</td>\n    </tr>\n  </tbody>\n</table>\n</div>"
                    },
                    "metadata": {}
                }
            ]
        },
        {
            "metadata": {},
            "cell_type": "markdown",
            "source": "<b>Question 1</b> Load the file <code>exchange_rates.csv</code> as a dataframe and find the exchange rate for British pounds with the symbol <code>GBP</code>, store it in the variable  <code>exchange_rate</code>, you will be asked for the number. Hint: set the parameter  <code>index_col</code> to 0.\n"
        },
        {
            "metadata": {},
            "cell_type": "code",
            "source": "# Write your code here\ntargetfile = \"exchange_rates.csv.2\"\n\ndataframe = pd.read_csv(targetfile, index_col=0)\nexchange_rate = dataframe.loc['GBP','Rates']\n\n#print(exchange_rate)\n#dataframe",
            "execution_count": 80,
            "outputs": [
                {
                    "output_type": "stream",
                    "text": "0.7323984208000001\n",
                    "name": "stdout"
                },
                {
                    "output_type": "execute_result",
                    "execution_count": 80,
                    "data": {
                        "text/plain": "            Rates\nAUD      1.297088\nBGN      1.608653\nBRL      5.409196\nCAD      1.271426\nCHF      0.886083\nCNY      6.483139\nCZK     21.510117\nDKK      6.119757\nEUR      0.822504\nGBP      0.732398\nHKD      7.752509\nHRK      6.222652\nHUF    294.135549\nIDR  14097.902616\nILS      3.281132\nINR     73.011186\nISK    129.133081\nJPY    103.791742\nKRW   1105.839776\nMXN     19.932966\nMYR      4.043017\nNOK      8.497121\nNZD      1.393733\nPHP     48.070406\nPLN      3.732933\nRON      4.008883\nRUB     74.930827\nSEK      8.292071\nSGD      1.328261\nTHB     30.009870\nTRY      7.418572\nUSD      1.000000\nZAR     15.118441",
                        "text/html": "<div>\n<style scoped>\n    .dataframe tbody tr th:only-of-type {\n        vertical-align: middle;\n    }\n\n    .dataframe tbody tr th {\n        vertical-align: top;\n    }\n\n    .dataframe thead th {\n        text-align: right;\n    }\n</style>\n<table border=\"1\" class=\"dataframe\">\n  <thead>\n    <tr style=\"text-align: right;\">\n      <th></th>\n      <th>Rates</th>\n    </tr>\n  </thead>\n  <tbody>\n    <tr>\n      <th>AUD</th>\n      <td>1.297088</td>\n    </tr>\n    <tr>\n      <th>BGN</th>\n      <td>1.608653</td>\n    </tr>\n    <tr>\n      <th>BRL</th>\n      <td>5.409196</td>\n    </tr>\n    <tr>\n      <th>CAD</th>\n      <td>1.271426</td>\n    </tr>\n    <tr>\n      <th>CHF</th>\n      <td>0.886083</td>\n    </tr>\n    <tr>\n      <th>CNY</th>\n      <td>6.483139</td>\n    </tr>\n    <tr>\n      <th>CZK</th>\n      <td>21.510117</td>\n    </tr>\n    <tr>\n      <th>DKK</th>\n      <td>6.119757</td>\n    </tr>\n    <tr>\n      <th>EUR</th>\n      <td>0.822504</td>\n    </tr>\n    <tr>\n      <th>GBP</th>\n      <td>0.732398</td>\n    </tr>\n    <tr>\n      <th>HKD</th>\n      <td>7.752509</td>\n    </tr>\n    <tr>\n      <th>HRK</th>\n      <td>6.222652</td>\n    </tr>\n    <tr>\n      <th>HUF</th>\n      <td>294.135549</td>\n    </tr>\n    <tr>\n      <th>IDR</th>\n      <td>14097.902616</td>\n    </tr>\n    <tr>\n      <th>ILS</th>\n      <td>3.281132</td>\n    </tr>\n    <tr>\n      <th>INR</th>\n      <td>73.011186</td>\n    </tr>\n    <tr>\n      <th>ISK</th>\n      <td>129.133081</td>\n    </tr>\n    <tr>\n      <th>JPY</th>\n      <td>103.791742</td>\n    </tr>\n    <tr>\n      <th>KRW</th>\n      <td>1105.839776</td>\n    </tr>\n    <tr>\n      <th>MXN</th>\n      <td>19.932966</td>\n    </tr>\n    <tr>\n      <th>MYR</th>\n      <td>4.043017</td>\n    </tr>\n    <tr>\n      <th>NOK</th>\n      <td>8.497121</td>\n    </tr>\n    <tr>\n      <th>NZD</th>\n      <td>1.393733</td>\n    </tr>\n    <tr>\n      <th>PHP</th>\n      <td>48.070406</td>\n    </tr>\n    <tr>\n      <th>PLN</th>\n      <td>3.732933</td>\n    </tr>\n    <tr>\n      <th>RON</th>\n      <td>4.008883</td>\n    </tr>\n    <tr>\n      <th>RUB</th>\n      <td>74.930827</td>\n    </tr>\n    <tr>\n      <th>SEK</th>\n      <td>8.292071</td>\n    </tr>\n    <tr>\n      <th>SGD</th>\n      <td>1.328261</td>\n    </tr>\n    <tr>\n      <th>THB</th>\n      <td>30.009870</td>\n    </tr>\n    <tr>\n      <th>TRY</th>\n      <td>7.418572</td>\n    </tr>\n    <tr>\n      <th>USD</th>\n      <td>1.000000</td>\n    </tr>\n    <tr>\n      <th>ZAR</th>\n      <td>15.118441</td>\n    </tr>\n  </tbody>\n</table>\n</div>"
                    },
                    "metadata": {}
                }
            ]
        },
        {
            "metadata": {},
            "cell_type": "markdown",
            "source": "## Transform\n\nUsing <code>exchange_rate</code> and the `exchange_rates.csv` file find the exchange rate of USD to GBP. Write a transform function that\n\n1.  Changes the `Market Cap (US$ Billion)` column from USD to GBP\n2.  Rounds the Market Cap (US$ Billion)\\` column to 3 decimal places\n3.  Rename `Market Cap (US$ Billion)` to `Market Cap (GBP$ Billion)`\n"
        },
        {
            "metadata": {},
            "cell_type": "code",
            "source": "def transform(USD_2_GBP):\n    # Write your code here\n    \n    df1 = extract()\n    df1['Market Cap (US$ Billion)'] = round(df1['Market Cap (US$ Billion)'].multiply(USD_2_GBP),3)\n    df1 = df1.rename(columns={'Market Cap (US$ Billion)':'Market Cap (GBP$ Billion)'})\n    \n    return df1\n\n#transform(exchange_rate)",
            "execution_count": 88,
            "outputs": [
                {
                    "output_type": "execute_result",
                    "execution_count": 88,
                    "data": {
                        "text/plain": "                                       Name  Market Cap (GBP$ Billion)\n0                            JPMorgan Chase                    286.319\n1   Industrial and Commercial Bank of China                    252.834\n2                           Bank of America                    238.272\n3                               Wells Fargo                    225.588\n4                   China Construction Bank                    188.519\n..                                      ...                        ...\n65                             Ping An Bank                     27.826\n66                       Standard Chartered                     27.332\n67                     United Overseas Bank                     25.728\n68                                QNB Group                     24.579\n69                              Bank Rakyat                     24.228\n\n[70 rows x 2 columns]",
                        "text/html": "<div>\n<style scoped>\n    .dataframe tbody tr th:only-of-type {\n        vertical-align: middle;\n    }\n\n    .dataframe tbody tr th {\n        vertical-align: top;\n    }\n\n    .dataframe thead th {\n        text-align: right;\n    }\n</style>\n<table border=\"1\" class=\"dataframe\">\n  <thead>\n    <tr style=\"text-align: right;\">\n      <th></th>\n      <th>Name</th>\n      <th>Market Cap (GBP$ Billion)</th>\n    </tr>\n  </thead>\n  <tbody>\n    <tr>\n      <th>0</th>\n      <td>JPMorgan Chase</td>\n      <td>286.319</td>\n    </tr>\n    <tr>\n      <th>1</th>\n      <td>Industrial and Commercial Bank of China</td>\n      <td>252.834</td>\n    </tr>\n    <tr>\n      <th>2</th>\n      <td>Bank of America</td>\n      <td>238.272</td>\n    </tr>\n    <tr>\n      <th>3</th>\n      <td>Wells Fargo</td>\n      <td>225.588</td>\n    </tr>\n    <tr>\n      <th>4</th>\n      <td>China Construction Bank</td>\n      <td>188.519</td>\n    </tr>\n    <tr>\n      <th>...</th>\n      <td>...</td>\n      <td>...</td>\n    </tr>\n    <tr>\n      <th>65</th>\n      <td>Ping An Bank</td>\n      <td>27.826</td>\n    </tr>\n    <tr>\n      <th>66</th>\n      <td>Standard Chartered</td>\n      <td>27.332</td>\n    </tr>\n    <tr>\n      <th>67</th>\n      <td>United Overseas Bank</td>\n      <td>25.728</td>\n    </tr>\n    <tr>\n      <th>68</th>\n      <td>QNB Group</td>\n      <td>24.579</td>\n    </tr>\n    <tr>\n      <th>69</th>\n      <td>Bank Rakyat</td>\n      <td>24.228</td>\n    </tr>\n  </tbody>\n</table>\n<p>70 rows \u00d7 2 columns</p>\n</div>"
                    },
                    "metadata": {}
                }
            ]
        },
        {
            "metadata": {},
            "cell_type": "markdown",
            "source": "## Load\n\nCreate a function that takes a dataframe and load it to a csv named `bank_market_cap_gbp.csv`. Make sure to set `index` to `False`.\n"
        },
        {
            "metadata": {},
            "cell_type": "code",
            "source": "def load():\n    # Write your code here\n    df1.to_csv('bank_market_cap_gbp.csv',index=False)",
            "execution_count": null,
            "outputs": []
        },
        {
            "metadata": {},
            "cell_type": "markdown",
            "source": "## Logging Function\n"
        },
        {
            "metadata": {},
            "cell_type": "markdown",
            "source": "Write the logging function <code>log</code> to log your data:\n"
        },
        {
            "metadata": {},
            "cell_type": "code",
            "source": "def log(message):\n    # Write your code here\n    timestamp_format = '%Y-%h-%d-%H:%M:%S' # Year-Monthname-Day-Hour-Minute-Second\n    now = datetime.now() # get current timestamp\n    timestamp = now.strftime(timestamp_format)\n    with open(\"log.txt\",\"a\") as f:\n        f.write(timestamp + ',' + message + '\\n')",
            "execution_count": 90,
            "outputs": []
        },
        {
            "metadata": {},
            "cell_type": "markdown",
            "source": "## Running the ETL Process\n"
        },
        {
            "metadata": {},
            "cell_type": "markdown",
            "source": "Log the process accordingly using the following <code>\"ETL Job Started\"</code> and <code>\"Extract phase Started\"</code>\n"
        },
        {
            "metadata": {},
            "cell_type": "code",
            "source": "# Write your code here\nlog(\"ETL Job Started\")",
            "execution_count": 91,
            "outputs": []
        },
        {
            "metadata": {},
            "cell_type": "markdown",
            "source": "### Extract\n"
        },
        {
            "metadata": {},
            "cell_type": "markdown",
            "source": "<code>Question 2</code> Use the function <code>extract</code>, and print the first 5 rows, take a screen shot:\n"
        },
        {
            "metadata": {},
            "cell_type": "code",
            "source": "# Call the function here\nlog(\"Extract phase Started\")\nextract()\n# Print the rows here\nextract().head()",
            "execution_count": 110,
            "outputs": [
                {
                    "output_type": "execute_result",
                    "execution_count": 110,
                    "data": {
                        "text/plain": "                                      Name  Market Cap (US$ Billion)\n0                           JPMorgan Chase                   390.934\n1  Industrial and Commercial Bank of China                   345.214\n2                          Bank of America                   325.331\n3                              Wells Fargo                   308.013\n4                  China Construction Bank                   257.399",
                        "text/html": "<div>\n<style scoped>\n    .dataframe tbody tr th:only-of-type {\n        vertical-align: middle;\n    }\n\n    .dataframe tbody tr th {\n        vertical-align: top;\n    }\n\n    .dataframe thead th {\n        text-align: right;\n    }\n</style>\n<table border=\"1\" class=\"dataframe\">\n  <thead>\n    <tr style=\"text-align: right;\">\n      <th></th>\n      <th>Name</th>\n      <th>Market Cap (US$ Billion)</th>\n    </tr>\n  </thead>\n  <tbody>\n    <tr>\n      <th>0</th>\n      <td>JPMorgan Chase</td>\n      <td>390.934</td>\n    </tr>\n    <tr>\n      <th>1</th>\n      <td>Industrial and Commercial Bank of China</td>\n      <td>345.214</td>\n    </tr>\n    <tr>\n      <th>2</th>\n      <td>Bank of America</td>\n      <td>325.331</td>\n    </tr>\n    <tr>\n      <th>3</th>\n      <td>Wells Fargo</td>\n      <td>308.013</td>\n    </tr>\n    <tr>\n      <th>4</th>\n      <td>China Construction Bank</td>\n      <td>257.399</td>\n    </tr>\n  </tbody>\n</table>\n</div>"
                    },
                    "metadata": {}
                }
            ]
        },
        {
            "metadata": {},
            "cell_type": "markdown",
            "source": "Log the data as <code>\"Extract phase Ended\"</code>\n"
        },
        {
            "metadata": {},
            "cell_type": "code",
            "source": "# Write your code here\nlog(\"Extract phase Ended\")",
            "execution_count": 103,
            "outputs": []
        },
        {
            "metadata": {},
            "cell_type": "markdown",
            "source": "### Transform\n"
        },
        {
            "metadata": {},
            "cell_type": "markdown",
            "source": "Log the following  <code>\"Transform phase Started\"</code>\n"
        },
        {
            "metadata": {},
            "cell_type": "code",
            "source": "# Write your code here\nlog(\"Transform phase Started\")",
            "execution_count": 104,
            "outputs": []
        },
        {
            "metadata": {},
            "cell_type": "markdown",
            "source": "<code>Question 3</code> Use the function <code>transform</code> and print the first 5 rows of the output, take a screen shot:\n"
        },
        {
            "metadata": {},
            "cell_type": "code",
            "source": "# Call the function here\ntransform(exchange_rate)\n# Print the first 5 rows here\ntransform(exchange_rate).head()",
            "execution_count": 107,
            "outputs": [
                {
                    "output_type": "execute_result",
                    "execution_count": 107,
                    "data": {
                        "text/plain": "                                      Name  Market Cap (GBP$ Billion)\n0                           JPMorgan Chase                    286.319\n1  Industrial and Commercial Bank of China                    252.834\n2                          Bank of America                    238.272\n3                              Wells Fargo                    225.588\n4                  China Construction Bank                    188.519",
                        "text/html": "<div>\n<style scoped>\n    .dataframe tbody tr th:only-of-type {\n        vertical-align: middle;\n    }\n\n    .dataframe tbody tr th {\n        vertical-align: top;\n    }\n\n    .dataframe thead th {\n        text-align: right;\n    }\n</style>\n<table border=\"1\" class=\"dataframe\">\n  <thead>\n    <tr style=\"text-align: right;\">\n      <th></th>\n      <th>Name</th>\n      <th>Market Cap (GBP$ Billion)</th>\n    </tr>\n  </thead>\n  <tbody>\n    <tr>\n      <th>0</th>\n      <td>JPMorgan Chase</td>\n      <td>286.319</td>\n    </tr>\n    <tr>\n      <th>1</th>\n      <td>Industrial and Commercial Bank of China</td>\n      <td>252.834</td>\n    </tr>\n    <tr>\n      <th>2</th>\n      <td>Bank of America</td>\n      <td>238.272</td>\n    </tr>\n    <tr>\n      <th>3</th>\n      <td>Wells Fargo</td>\n      <td>225.588</td>\n    </tr>\n    <tr>\n      <th>4</th>\n      <td>China Construction Bank</td>\n      <td>188.519</td>\n    </tr>\n  </tbody>\n</table>\n</div>"
                    },
                    "metadata": {}
                }
            ]
        },
        {
            "metadata": {},
            "cell_type": "markdown",
            "source": "Log your data <code>\"Transform phase Ended\"</code>\n"
        },
        {
            "metadata": {},
            "cell_type": "code",
            "source": "# Write your code here\nlog(\"Transform phase Ended\")",
            "execution_count": 108,
            "outputs": []
        },
        {
            "metadata": {},
            "cell_type": "markdown",
            "source": "### Load\n"
        },
        {
            "metadata": {},
            "cell_type": "markdown",
            "source": "Log the following `\"Load phase Started\"`.\n"
        },
        {
            "metadata": {},
            "cell_type": "code",
            "source": "# Write your code here\nlog(\"Load phase Started\")",
            "execution_count": 109,
            "outputs": []
        },
        {
            "metadata": {},
            "cell_type": "markdown",
            "source": "Call the load function\n"
        },
        {
            "metadata": {},
            "cell_type": "code",
            "source": "# Write your code here\nload()",
            "execution_count": null,
            "outputs": []
        },
        {
            "metadata": {},
            "cell_type": "markdown",
            "source": "Log the following `\"Load phase Ended\"`.\n"
        },
        {
            "metadata": {},
            "cell_type": "code",
            "source": "# Write your code here\nlog(\"Load phase Ended\")",
            "execution_count": null,
            "outputs": []
        },
        {
            "metadata": {},
            "cell_type": "markdown",
            "source": "## Authors\n"
        },
        {
            "metadata": {},
            "cell_type": "markdown",
            "source": "Ramesh Sannareddy, Joseph Santrcangelo and Azim Hirjani\n"
        },
        {
            "metadata": {},
            "cell_type": "markdown",
            "source": "### Other Contributors\n"
        },
        {
            "metadata": {},
            "cell_type": "markdown",
            "source": "Rav Ahuja\n"
        },
        {
            "metadata": {},
            "cell_type": "markdown",
            "source": "## Change Log\n"
        },
        {
            "metadata": {},
            "cell_type": "markdown",
            "source": "| Date (YYYY-MM-DD) | Version | Changed By        | Change Description                 |\n| ----------------- | ------- | ----------------- | ---------------------------------- |\n| 2020-11-25        | 0.1     | Ramesh Sannareddy | Created initial version of the lab |\n"
        },
        {
            "metadata": {},
            "cell_type": "markdown",
            "source": "Copyright \u00a9 2020 IBM Corporation. This notebook and its source code are released under the terms of the [MIT License](https://cognitiveclass.ai/mit-license?utm_medium=Exinfluencer&utm_source=Exinfluencer&utm_content=000026UJ&utm_term=10006555&utm_id=NA-SkillsNetwork-Channel-SkillsNetworkCoursesIBMDeveloperSkillsNetworkPY0221ENSkillsNetwork23455645-2022-01-01&cm_mmc=Email_Newsletter-\\_-Developer_Ed%2BTech-\\_-WW_WW-\\_-SkillsNetwork-Courses-IBM-DA0321EN-SkillsNetwork-21426264&cm_mmca1=000026UJ&cm_mmca2=10006555&cm_mmca3=M12345678&cvosrc=email.Newsletter.M12345678&cvo_campaign=000026UJ).\n"
        }
    ],
    "metadata": {
        "kernelspec": {
            "name": "python3",
            "display_name": "Python 3.9",
            "language": "python"
        },
        "language_info": {
            "name": "python",
            "version": "3.9.13",
            "mimetype": "text/x-python",
            "codemirror_mode": {
                "name": "ipython",
                "version": 3
            },
            "pygments_lexer": "ipython3",
            "nbconvert_exporter": "python",
            "file_extension": ".py"
        },
        "celltoolbar": "Attachments"
    },
    "nbformat": 4,
    "nbformat_minor": 4
}